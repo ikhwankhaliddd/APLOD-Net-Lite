{
  "nbformat": 4,
  "nbformat_minor": 0,
  "metadata": {
    "colab": {
      "name": "APLOD-Net v.2.1.ipynb",
      "provenance": [],
      "collapsed_sections": [
        "GiyR84OWFWrS",
        "-UFxD3cO4wBc"
      ],
      "toc_visible": true
    },
    "kernelspec": {
      "name": "python3",
      "display_name": "Python 3"
    },
    "language_info": {
      "name": "python"
    },
    "accelerator": "GPU",
    "widgets": {
      "application/vnd.jupyter.widget-state+json": {
        "667db071bee3490591e7206d227fcc5b": {
          "model_module": "@jupyter-widgets/controls",
          "model_name": "HBoxModel",
          "state": {
            "_view_name": "HBoxView",
            "_dom_classes": [],
            "_model_name": "HBoxModel",
            "_view_module": "@jupyter-widgets/controls",
            "_model_module_version": "1.5.0",
            "_view_count": null,
            "_view_module_version": "1.5.0",
            "box_style": "",
            "layout": "IPY_MODEL_51d4bb501a8e43d0beaf63f3294e5438",
            "_model_module": "@jupyter-widgets/controls",
            "children": [
              "IPY_MODEL_51975edc28d844acb484eb6cfa723bce",
              "IPY_MODEL_8c9c3daf723b42f3bbbc9c35310447d7"
            ]
          }
        },
        "51d4bb501a8e43d0beaf63f3294e5438": {
          "model_module": "@jupyter-widgets/base",
          "model_name": "LayoutModel",
          "state": {
            "_view_name": "LayoutView",
            "grid_template_rows": null,
            "right": null,
            "justify_content": null,
            "_view_module": "@jupyter-widgets/base",
            "overflow": null,
            "_model_module_version": "1.2.0",
            "_view_count": null,
            "flex_flow": null,
            "width": null,
            "min_width": null,
            "border": null,
            "align_items": null,
            "bottom": null,
            "_model_module": "@jupyter-widgets/base",
            "top": null,
            "grid_column": null,
            "overflow_y": null,
            "overflow_x": null,
            "grid_auto_flow": null,
            "grid_area": null,
            "grid_template_columns": null,
            "flex": null,
            "_model_name": "LayoutModel",
            "justify_items": null,
            "grid_row": null,
            "max_height": null,
            "align_content": null,
            "visibility": null,
            "align_self": null,
            "height": null,
            "min_height": null,
            "padding": null,
            "grid_auto_rows": null,
            "grid_gap": null,
            "max_width": null,
            "order": null,
            "_view_module_version": "1.2.0",
            "grid_template_areas": null,
            "object_position": null,
            "object_fit": null,
            "grid_auto_columns": null,
            "margin": null,
            "display": null,
            "left": null
          }
        },
        "51975edc28d844acb484eb6cfa723bce": {
          "model_module": "@jupyter-widgets/controls",
          "model_name": "FloatProgressModel",
          "state": {
            "_view_name": "ProgressView",
            "style": "IPY_MODEL_9411f15658794c28bb66033b3b43b2a8",
            "_dom_classes": [],
            "description": "Downloading: 100%",
            "_model_name": "FloatProgressModel",
            "bar_style": "success",
            "max": 442,
            "_view_module": "@jupyter-widgets/controls",
            "_model_module_version": "1.5.0",
            "value": 442,
            "_view_count": null,
            "_view_module_version": "1.5.0",
            "orientation": "horizontal",
            "min": 0,
            "description_tooltip": null,
            "_model_module": "@jupyter-widgets/controls",
            "layout": "IPY_MODEL_9227f5db179c4fa09488db2582fd7e61"
          }
        },
        "8c9c3daf723b42f3bbbc9c35310447d7": {
          "model_module": "@jupyter-widgets/controls",
          "model_name": "HTMLModel",
          "state": {
            "_view_name": "HTMLView",
            "style": "IPY_MODEL_1f9ac7f55c10499a9cee06f38f2542b6",
            "_dom_classes": [],
            "description": "",
            "_model_name": "HTMLModel",
            "placeholder": "​",
            "_view_module": "@jupyter-widgets/controls",
            "_model_module_version": "1.5.0",
            "value": " 442/442 [01:39&lt;00:00, 4.44B/s]",
            "_view_count": null,
            "_view_module_version": "1.5.0",
            "description_tooltip": null,
            "_model_module": "@jupyter-widgets/controls",
            "layout": "IPY_MODEL_218e84dcad0848418e0b1f9d623ce788"
          }
        },
        "9411f15658794c28bb66033b3b43b2a8": {
          "model_module": "@jupyter-widgets/controls",
          "model_name": "ProgressStyleModel",
          "state": {
            "_view_name": "StyleView",
            "_model_name": "ProgressStyleModel",
            "description_width": "initial",
            "_view_module": "@jupyter-widgets/base",
            "_model_module_version": "1.5.0",
            "_view_count": null,
            "_view_module_version": "1.2.0",
            "bar_color": null,
            "_model_module": "@jupyter-widgets/controls"
          }
        },
        "9227f5db179c4fa09488db2582fd7e61": {
          "model_module": "@jupyter-widgets/base",
          "model_name": "LayoutModel",
          "state": {
            "_view_name": "LayoutView",
            "grid_template_rows": null,
            "right": null,
            "justify_content": null,
            "_view_module": "@jupyter-widgets/base",
            "overflow": null,
            "_model_module_version": "1.2.0",
            "_view_count": null,
            "flex_flow": null,
            "width": null,
            "min_width": null,
            "border": null,
            "align_items": null,
            "bottom": null,
            "_model_module": "@jupyter-widgets/base",
            "top": null,
            "grid_column": null,
            "overflow_y": null,
            "overflow_x": null,
            "grid_auto_flow": null,
            "grid_area": null,
            "grid_template_columns": null,
            "flex": null,
            "_model_name": "LayoutModel",
            "justify_items": null,
            "grid_row": null,
            "max_height": null,
            "align_content": null,
            "visibility": null,
            "align_self": null,
            "height": null,
            "min_height": null,
            "padding": null,
            "grid_auto_rows": null,
            "grid_gap": null,
            "max_width": null,
            "order": null,
            "_view_module_version": "1.2.0",
            "grid_template_areas": null,
            "object_position": null,
            "object_fit": null,
            "grid_auto_columns": null,
            "margin": null,
            "display": null,
            "left": null
          }
        },
        "1f9ac7f55c10499a9cee06f38f2542b6": {
          "model_module": "@jupyter-widgets/controls",
          "model_name": "DescriptionStyleModel",
          "state": {
            "_view_name": "StyleView",
            "_model_name": "DescriptionStyleModel",
            "description_width": "",
            "_view_module": "@jupyter-widgets/base",
            "_model_module_version": "1.5.0",
            "_view_count": null,
            "_view_module_version": "1.2.0",
            "_model_module": "@jupyter-widgets/controls"
          }
        },
        "218e84dcad0848418e0b1f9d623ce788": {
          "model_module": "@jupyter-widgets/base",
          "model_name": "LayoutModel",
          "state": {
            "_view_name": "LayoutView",
            "grid_template_rows": null,
            "right": null,
            "justify_content": null,
            "_view_module": "@jupyter-widgets/base",
            "overflow": null,
            "_model_module_version": "1.2.0",
            "_view_count": null,
            "flex_flow": null,
            "width": null,
            "min_width": null,
            "border": null,
            "align_items": null,
            "bottom": null,
            "_model_module": "@jupyter-widgets/base",
            "top": null,
            "grid_column": null,
            "overflow_y": null,
            "overflow_x": null,
            "grid_auto_flow": null,
            "grid_area": null,
            "grid_template_columns": null,
            "flex": null,
            "_model_name": "LayoutModel",
            "justify_items": null,
            "grid_row": null,
            "max_height": null,
            "align_content": null,
            "visibility": null,
            "align_self": null,
            "height": null,
            "min_height": null,
            "padding": null,
            "grid_auto_rows": null,
            "grid_gap": null,
            "max_width": null,
            "order": null,
            "_view_module_version": "1.2.0",
            "grid_template_areas": null,
            "object_position": null,
            "object_fit": null,
            "grid_auto_columns": null,
            "margin": null,
            "display": null,
            "left": null
          }
        },
        "c0422b89b2764062b949ea82520bbdc6": {
          "model_module": "@jupyter-widgets/controls",
          "model_name": "HBoxModel",
          "state": {
            "_view_name": "HBoxView",
            "_dom_classes": [],
            "_model_name": "HBoxModel",
            "_view_module": "@jupyter-widgets/controls",
            "_model_module_version": "1.5.0",
            "_view_count": null,
            "_view_module_version": "1.5.0",
            "box_style": "",
            "layout": "IPY_MODEL_a1ee6e9ee4f54112b71f3aab3a407c44",
            "_model_module": "@jupyter-widgets/controls",
            "children": [
              "IPY_MODEL_5c6454624ddf455cbf48e1ccda5cc5a4",
              "IPY_MODEL_493b5650e1f84b2ea492e69ca1a9a16a"
            ]
          }
        },
        "a1ee6e9ee4f54112b71f3aab3a407c44": {
          "model_module": "@jupyter-widgets/base",
          "model_name": "LayoutModel",
          "state": {
            "_view_name": "LayoutView",
            "grid_template_rows": null,
            "right": null,
            "justify_content": null,
            "_view_module": "@jupyter-widgets/base",
            "overflow": null,
            "_model_module_version": "1.2.0",
            "_view_count": null,
            "flex_flow": null,
            "width": null,
            "min_width": null,
            "border": null,
            "align_items": null,
            "bottom": null,
            "_model_module": "@jupyter-widgets/base",
            "top": null,
            "grid_column": null,
            "overflow_y": null,
            "overflow_x": null,
            "grid_auto_flow": null,
            "grid_area": null,
            "grid_template_columns": null,
            "flex": null,
            "_model_name": "LayoutModel",
            "justify_items": null,
            "grid_row": null,
            "max_height": null,
            "align_content": null,
            "visibility": null,
            "align_self": null,
            "height": null,
            "min_height": null,
            "padding": null,
            "grid_auto_rows": null,
            "grid_gap": null,
            "max_width": null,
            "order": null,
            "_view_module_version": "1.2.0",
            "grid_template_areas": null,
            "object_position": null,
            "object_fit": null,
            "grid_auto_columns": null,
            "margin": null,
            "display": null,
            "left": null
          }
        },
        "5c6454624ddf455cbf48e1ccda5cc5a4": {
          "model_module": "@jupyter-widgets/controls",
          "model_name": "FloatProgressModel",
          "state": {
            "_view_name": "ProgressView",
            "style": "IPY_MODEL_ad1fc3088e9f47ae936f191b3139a1cc",
            "_dom_classes": [],
            "description": "Downloading: 100%",
            "_model_name": "FloatProgressModel",
            "bar_style": "success",
            "max": 363423424,
            "_view_module": "@jupyter-widgets/controls",
            "_model_module_version": "1.5.0",
            "value": 363423424,
            "_view_count": null,
            "_view_module_version": "1.5.0",
            "orientation": "horizontal",
            "min": 0,
            "description_tooltip": null,
            "_model_module": "@jupyter-widgets/controls",
            "layout": "IPY_MODEL_6d099a91baaf4620af207b70cf565e6a"
          }
        },
        "493b5650e1f84b2ea492e69ca1a9a16a": {
          "model_module": "@jupyter-widgets/controls",
          "model_name": "HTMLModel",
          "state": {
            "_view_name": "HTMLView",
            "style": "IPY_MODEL_0cd200fdf311488f85d24c0641d342ab",
            "_dom_classes": [],
            "description": "",
            "_model_name": "HTMLModel",
            "placeholder": "​",
            "_view_module": "@jupyter-widgets/controls",
            "_model_module_version": "1.5.0",
            "value": " 363M/363M [00:07&lt;00:00, 48.6MB/s]",
            "_view_count": null,
            "_view_module_version": "1.5.0",
            "description_tooltip": null,
            "_model_module": "@jupyter-widgets/controls",
            "layout": "IPY_MODEL_ab1135bc01f24a03a005758ed28f6b02"
          }
        },
        "ad1fc3088e9f47ae936f191b3139a1cc": {
          "model_module": "@jupyter-widgets/controls",
          "model_name": "ProgressStyleModel",
          "state": {
            "_view_name": "StyleView",
            "_model_name": "ProgressStyleModel",
            "description_width": "initial",
            "_view_module": "@jupyter-widgets/base",
            "_model_module_version": "1.5.0",
            "_view_count": null,
            "_view_module_version": "1.2.0",
            "bar_color": null,
            "_model_module": "@jupyter-widgets/controls"
          }
        },
        "6d099a91baaf4620af207b70cf565e6a": {
          "model_module": "@jupyter-widgets/base",
          "model_name": "LayoutModel",
          "state": {
            "_view_name": "LayoutView",
            "grid_template_rows": null,
            "right": null,
            "justify_content": null,
            "_view_module": "@jupyter-widgets/base",
            "overflow": null,
            "_model_module_version": "1.2.0",
            "_view_count": null,
            "flex_flow": null,
            "width": null,
            "min_width": null,
            "border": null,
            "align_items": null,
            "bottom": null,
            "_model_module": "@jupyter-widgets/base",
            "top": null,
            "grid_column": null,
            "overflow_y": null,
            "overflow_x": null,
            "grid_auto_flow": null,
            "grid_area": null,
            "grid_template_columns": null,
            "flex": null,
            "_model_name": "LayoutModel",
            "justify_items": null,
            "grid_row": null,
            "max_height": null,
            "align_content": null,
            "visibility": null,
            "align_self": null,
            "height": null,
            "min_height": null,
            "padding": null,
            "grid_auto_rows": null,
            "grid_gap": null,
            "max_width": null,
            "order": null,
            "_view_module_version": "1.2.0",
            "grid_template_areas": null,
            "object_position": null,
            "object_fit": null,
            "grid_auto_columns": null,
            "margin": null,
            "display": null,
            "left": null
          }
        },
        "0cd200fdf311488f85d24c0641d342ab": {
          "model_module": "@jupyter-widgets/controls",
          "model_name": "DescriptionStyleModel",
          "state": {
            "_view_name": "StyleView",
            "_model_name": "DescriptionStyleModel",
            "description_width": "",
            "_view_module": "@jupyter-widgets/base",
            "_model_module_version": "1.5.0",
            "_view_count": null,
            "_view_module_version": "1.2.0",
            "_model_module": "@jupyter-widgets/controls"
          }
        },
        "ab1135bc01f24a03a005758ed28f6b02": {
          "model_module": "@jupyter-widgets/base",
          "model_name": "LayoutModel",
          "state": {
            "_view_name": "LayoutView",
            "grid_template_rows": null,
            "right": null,
            "justify_content": null,
            "_view_module": "@jupyter-widgets/base",
            "overflow": null,
            "_model_module_version": "1.2.0",
            "_view_count": null,
            "flex_flow": null,
            "width": null,
            "min_width": null,
            "border": null,
            "align_items": null,
            "bottom": null,
            "_model_module": "@jupyter-widgets/base",
            "top": null,
            "grid_column": null,
            "overflow_y": null,
            "overflow_x": null,
            "grid_auto_flow": null,
            "grid_area": null,
            "grid_template_columns": null,
            "flex": null,
            "_model_name": "LayoutModel",
            "justify_items": null,
            "grid_row": null,
            "max_height": null,
            "align_content": null,
            "visibility": null,
            "align_self": null,
            "height": null,
            "min_height": null,
            "padding": null,
            "grid_auto_rows": null,
            "grid_gap": null,
            "max_width": null,
            "order": null,
            "_view_module_version": "1.2.0",
            "grid_template_areas": null,
            "object_position": null,
            "object_fit": null,
            "grid_auto_columns": null,
            "margin": null,
            "display": null,
            "left": null
          }
        }
      }
    }
  },
  "cells": [
    {
      "cell_type": "markdown",
      "metadata": {
        "id": "GiyR84OWFWrS"
      },
      "source": [
        "# **0. Install Depedencies**"
      ]
    },
    {
      "cell_type": "code",
      "metadata": {
        "colab": {
          "base_uri": "https://localhost:8080/"
        },
        "id": "c1ZnK7cRFbl3",
        "outputId": "65051294-da8b-431e-e0a5-ad440056ea53"
      },
      "source": [
        "!pip install transformers==3.1.0"
      ],
      "execution_count": 2,
      "outputs": [
        {
          "output_type": "stream",
          "text": [
            "Collecting transformers==3.1.0\n",
            "\u001b[?25l  Downloading https://files.pythonhosted.org/packages/ae/05/c8c55b600308dc04e95100dc8ad8a244dd800fe75dfafcf1d6348c6f6209/transformers-3.1.0-py3-none-any.whl (884kB)\n",
            "\u001b[K     |████████████████████████████████| 890kB 7.5MB/s \n",
            "\u001b[?25hRequirement already satisfied: numpy in /usr/local/lib/python3.7/dist-packages (from transformers==3.1.0) (1.19.5)\n",
            "Requirement already satisfied: regex!=2019.12.17 in /usr/local/lib/python3.7/dist-packages (from transformers==3.1.0) (2019.12.20)\n",
            "Collecting tokenizers==0.8.1.rc2\n",
            "\u001b[?25l  Downloading https://files.pythonhosted.org/packages/75/26/c02ba92ecb8b780bdae4a862d351433c2912fe49469dac7f87a5c85ccca6/tokenizers-0.8.1rc2-cp37-cp37m-manylinux1_x86_64.whl (3.0MB)\n",
            "\u001b[K     |████████████████████████████████| 3.0MB 15.7MB/s \n",
            "\u001b[?25hRequirement already satisfied: filelock in /usr/local/lib/python3.7/dist-packages (from transformers==3.1.0) (3.0.12)\n",
            "Requirement already satisfied: packaging in /usr/local/lib/python3.7/dist-packages (from transformers==3.1.0) (20.9)\n",
            "Requirement already satisfied: tqdm>=4.27 in /usr/local/lib/python3.7/dist-packages (from transformers==3.1.0) (4.41.1)\n",
            "Requirement already satisfied: requests in /usr/local/lib/python3.7/dist-packages (from transformers==3.1.0) (2.23.0)\n",
            "Collecting sentencepiece!=0.1.92\n",
            "\u001b[?25l  Downloading https://files.pythonhosted.org/packages/f5/99/e0808cb947ba10f575839c43e8fafc9cc44e4a7a2c8f79c60db48220a577/sentencepiece-0.1.95-cp37-cp37m-manylinux2014_x86_64.whl (1.2MB)\n",
            "\u001b[K     |████████████████████████████████| 1.2MB 49.3MB/s \n",
            "\u001b[?25hCollecting sacremoses\n",
            "\u001b[?25l  Downloading https://files.pythonhosted.org/packages/75/ee/67241dc87f266093c533a2d4d3d69438e57d7a90abb216fa076e7d475d4a/sacremoses-0.0.45-py3-none-any.whl (895kB)\n",
            "\u001b[K     |████████████████████████████████| 901kB 31.6MB/s \n",
            "\u001b[?25hRequirement already satisfied: pyparsing>=2.0.2 in /usr/local/lib/python3.7/dist-packages (from packaging->transformers==3.1.0) (2.4.7)\n",
            "Requirement already satisfied: idna<3,>=2.5 in /usr/local/lib/python3.7/dist-packages (from requests->transformers==3.1.0) (2.10)\n",
            "Requirement already satisfied: certifi>=2017.4.17 in /usr/local/lib/python3.7/dist-packages (from requests->transformers==3.1.0) (2020.12.5)\n",
            "Requirement already satisfied: chardet<4,>=3.0.2 in /usr/local/lib/python3.7/dist-packages (from requests->transformers==3.1.0) (3.0.4)\n",
            "Requirement already satisfied: urllib3!=1.25.0,!=1.25.1,<1.26,>=1.21.1 in /usr/local/lib/python3.7/dist-packages (from requests->transformers==3.1.0) (1.24.3)\n",
            "Requirement already satisfied: click in /usr/local/lib/python3.7/dist-packages (from sacremoses->transformers==3.1.0) (8.0.0)\n",
            "Requirement already satisfied: joblib in /usr/local/lib/python3.7/dist-packages (from sacremoses->transformers==3.1.0) (1.0.1)\n",
            "Requirement already satisfied: six in /usr/local/lib/python3.7/dist-packages (from sacremoses->transformers==3.1.0) (1.15.0)\n",
            "Installing collected packages: tokenizers, sentencepiece, sacremoses, transformers\n",
            "Successfully installed sacremoses-0.0.45 sentencepiece-0.1.95 tokenizers-0.8.1rc2 transformers-3.1.0\n"
          ],
          "name": "stdout"
        }
      ]
    },
    {
      "cell_type": "markdown",
      "metadata": {
        "id": "-UFxD3cO4wBc"
      },
      "source": [
        "# **1. Import Libraries**\n"
      ]
    },
    {
      "cell_type": "code",
      "metadata": {
        "id": "g1FY1sQN4vBS"
      },
      "source": [
        "#Import libraries\n",
        "from transformers import DistilBertTokenizerFast\n",
        "from transformers import TFDistilBertForSequenceClassification\n",
        "\n",
        "import tensorflow as tf"
      ],
      "execution_count": 3,
      "outputs": []
    },
    {
      "cell_type": "code",
      "metadata": {
        "id": "GsxUpO9UF07u"
      },
      "source": [
        "#Some libraries from APLOD-Net V1.0\n",
        "#from sklearn.model_selection import train_test_split\n",
        "from tensorflow.keras.utils import to_categorical\n",
        "import pandas as pd\n",
        "import numpy as np"
      ],
      "execution_count": 4,
      "outputs": []
    },
    {
      "cell_type": "markdown",
      "metadata": {
        "id": "APQZEZE9G9wp"
      },
      "source": [
        "# **2. EDA (Exploratory Data Analysis)**"
      ]
    },
    {
      "cell_type": "code",
      "metadata": {
        "colab": {
          "base_uri": "https://localhost:8080/",
          "height": 402
        },
        "id": "r5xeNqzkGrbs",
        "outputId": "b210ada8-8e36-41c3-b4b5-c295ec501d45"
      },
      "source": [
        "df = pd.read_csv('Twitter.csv')\n",
        "df.head()"
      ],
      "execution_count": 5,
      "outputs": [
        {
          "output_type": "error",
          "ename": "FileNotFoundError",
          "evalue": "ignored",
          "traceback": [
            "\u001b[0;31m---------------------------------------------------------------------------\u001b[0m",
            "\u001b[0;31mFileNotFoundError\u001b[0m                         Traceback (most recent call last)",
            "\u001b[0;32m<ipython-input-5-cd58613d9d96>\u001b[0m in \u001b[0;36m<module>\u001b[0;34m()\u001b[0m\n\u001b[0;32m----> 1\u001b[0;31m \u001b[0mdf\u001b[0m \u001b[0;34m=\u001b[0m \u001b[0mpd\u001b[0m\u001b[0;34m.\u001b[0m\u001b[0mread_csv\u001b[0m\u001b[0;34m(\u001b[0m\u001b[0;34m'Twitter.csv'\u001b[0m\u001b[0;34m)\u001b[0m\u001b[0;34m\u001b[0m\u001b[0;34m\u001b[0m\u001b[0m\n\u001b[0m\u001b[1;32m      2\u001b[0m \u001b[0mdf\u001b[0m\u001b[0;34m.\u001b[0m\u001b[0mhead\u001b[0m\u001b[0;34m(\u001b[0m\u001b[0;34m)\u001b[0m\u001b[0;34m\u001b[0m\u001b[0;34m\u001b[0m\u001b[0m\n",
            "\u001b[0;32m/usr/local/lib/python3.7/dist-packages/pandas/io/parsers.py\u001b[0m in \u001b[0;36mread_csv\u001b[0;34m(filepath_or_buffer, sep, delimiter, header, names, index_col, usecols, squeeze, prefix, mangle_dupe_cols, dtype, engine, converters, true_values, false_values, skipinitialspace, skiprows, skipfooter, nrows, na_values, keep_default_na, na_filter, verbose, skip_blank_lines, parse_dates, infer_datetime_format, keep_date_col, date_parser, dayfirst, cache_dates, iterator, chunksize, compression, thousands, decimal, lineterminator, quotechar, quoting, doublequote, escapechar, comment, encoding, dialect, error_bad_lines, warn_bad_lines, delim_whitespace, low_memory, memory_map, float_precision)\u001b[0m\n\u001b[1;32m    686\u001b[0m     )\n\u001b[1;32m    687\u001b[0m \u001b[0;34m\u001b[0m\u001b[0m\n\u001b[0;32m--> 688\u001b[0;31m     \u001b[0;32mreturn\u001b[0m \u001b[0m_read\u001b[0m\u001b[0;34m(\u001b[0m\u001b[0mfilepath_or_buffer\u001b[0m\u001b[0;34m,\u001b[0m \u001b[0mkwds\u001b[0m\u001b[0;34m)\u001b[0m\u001b[0;34m\u001b[0m\u001b[0;34m\u001b[0m\u001b[0m\n\u001b[0m\u001b[1;32m    689\u001b[0m \u001b[0;34m\u001b[0m\u001b[0m\n\u001b[1;32m    690\u001b[0m \u001b[0;34m\u001b[0m\u001b[0m\n",
            "\u001b[0;32m/usr/local/lib/python3.7/dist-packages/pandas/io/parsers.py\u001b[0m in \u001b[0;36m_read\u001b[0;34m(filepath_or_buffer, kwds)\u001b[0m\n\u001b[1;32m    452\u001b[0m \u001b[0;34m\u001b[0m\u001b[0m\n\u001b[1;32m    453\u001b[0m     \u001b[0;31m# Create the parser.\u001b[0m\u001b[0;34m\u001b[0m\u001b[0;34m\u001b[0m\u001b[0;34m\u001b[0m\u001b[0m\n\u001b[0;32m--> 454\u001b[0;31m     \u001b[0mparser\u001b[0m \u001b[0;34m=\u001b[0m \u001b[0mTextFileReader\u001b[0m\u001b[0;34m(\u001b[0m\u001b[0mfp_or_buf\u001b[0m\u001b[0;34m,\u001b[0m \u001b[0;34m**\u001b[0m\u001b[0mkwds\u001b[0m\u001b[0;34m)\u001b[0m\u001b[0;34m\u001b[0m\u001b[0;34m\u001b[0m\u001b[0m\n\u001b[0m\u001b[1;32m    455\u001b[0m \u001b[0;34m\u001b[0m\u001b[0m\n\u001b[1;32m    456\u001b[0m     \u001b[0;32mif\u001b[0m \u001b[0mchunksize\u001b[0m \u001b[0;32mor\u001b[0m \u001b[0miterator\u001b[0m\u001b[0;34m:\u001b[0m\u001b[0;34m\u001b[0m\u001b[0;34m\u001b[0m\u001b[0m\n",
            "\u001b[0;32m/usr/local/lib/python3.7/dist-packages/pandas/io/parsers.py\u001b[0m in \u001b[0;36m__init__\u001b[0;34m(self, f, engine, **kwds)\u001b[0m\n\u001b[1;32m    946\u001b[0m             \u001b[0mself\u001b[0m\u001b[0;34m.\u001b[0m\u001b[0moptions\u001b[0m\u001b[0;34m[\u001b[0m\u001b[0;34m\"has_index_names\"\u001b[0m\u001b[0;34m]\u001b[0m \u001b[0;34m=\u001b[0m \u001b[0mkwds\u001b[0m\u001b[0;34m[\u001b[0m\u001b[0;34m\"has_index_names\"\u001b[0m\u001b[0;34m]\u001b[0m\u001b[0;34m\u001b[0m\u001b[0;34m\u001b[0m\u001b[0m\n\u001b[1;32m    947\u001b[0m \u001b[0;34m\u001b[0m\u001b[0m\n\u001b[0;32m--> 948\u001b[0;31m         \u001b[0mself\u001b[0m\u001b[0;34m.\u001b[0m\u001b[0m_make_engine\u001b[0m\u001b[0;34m(\u001b[0m\u001b[0mself\u001b[0m\u001b[0;34m.\u001b[0m\u001b[0mengine\u001b[0m\u001b[0;34m)\u001b[0m\u001b[0;34m\u001b[0m\u001b[0;34m\u001b[0m\u001b[0m\n\u001b[0m\u001b[1;32m    949\u001b[0m \u001b[0;34m\u001b[0m\u001b[0m\n\u001b[1;32m    950\u001b[0m     \u001b[0;32mdef\u001b[0m \u001b[0mclose\u001b[0m\u001b[0;34m(\u001b[0m\u001b[0mself\u001b[0m\u001b[0;34m)\u001b[0m\u001b[0;34m:\u001b[0m\u001b[0;34m\u001b[0m\u001b[0;34m\u001b[0m\u001b[0m\n",
            "\u001b[0;32m/usr/local/lib/python3.7/dist-packages/pandas/io/parsers.py\u001b[0m in \u001b[0;36m_make_engine\u001b[0;34m(self, engine)\u001b[0m\n\u001b[1;32m   1178\u001b[0m     \u001b[0;32mdef\u001b[0m \u001b[0m_make_engine\u001b[0m\u001b[0;34m(\u001b[0m\u001b[0mself\u001b[0m\u001b[0;34m,\u001b[0m \u001b[0mengine\u001b[0m\u001b[0;34m=\u001b[0m\u001b[0;34m\"c\"\u001b[0m\u001b[0;34m)\u001b[0m\u001b[0;34m:\u001b[0m\u001b[0;34m\u001b[0m\u001b[0;34m\u001b[0m\u001b[0m\n\u001b[1;32m   1179\u001b[0m         \u001b[0;32mif\u001b[0m \u001b[0mengine\u001b[0m \u001b[0;34m==\u001b[0m \u001b[0;34m\"c\"\u001b[0m\u001b[0;34m:\u001b[0m\u001b[0;34m\u001b[0m\u001b[0;34m\u001b[0m\u001b[0m\n\u001b[0;32m-> 1180\u001b[0;31m             \u001b[0mself\u001b[0m\u001b[0;34m.\u001b[0m\u001b[0m_engine\u001b[0m \u001b[0;34m=\u001b[0m \u001b[0mCParserWrapper\u001b[0m\u001b[0;34m(\u001b[0m\u001b[0mself\u001b[0m\u001b[0;34m.\u001b[0m\u001b[0mf\u001b[0m\u001b[0;34m,\u001b[0m \u001b[0;34m**\u001b[0m\u001b[0mself\u001b[0m\u001b[0;34m.\u001b[0m\u001b[0moptions\u001b[0m\u001b[0;34m)\u001b[0m\u001b[0;34m\u001b[0m\u001b[0;34m\u001b[0m\u001b[0m\n\u001b[0m\u001b[1;32m   1181\u001b[0m         \u001b[0;32melse\u001b[0m\u001b[0;34m:\u001b[0m\u001b[0;34m\u001b[0m\u001b[0;34m\u001b[0m\u001b[0m\n\u001b[1;32m   1182\u001b[0m             \u001b[0;32mif\u001b[0m \u001b[0mengine\u001b[0m \u001b[0;34m==\u001b[0m \u001b[0;34m\"python\"\u001b[0m\u001b[0;34m:\u001b[0m\u001b[0;34m\u001b[0m\u001b[0;34m\u001b[0m\u001b[0m\n",
            "\u001b[0;32m/usr/local/lib/python3.7/dist-packages/pandas/io/parsers.py\u001b[0m in \u001b[0;36m__init__\u001b[0;34m(self, src, **kwds)\u001b[0m\n\u001b[1;32m   2008\u001b[0m         \u001b[0mkwds\u001b[0m\u001b[0;34m[\u001b[0m\u001b[0;34m\"usecols\"\u001b[0m\u001b[0;34m]\u001b[0m \u001b[0;34m=\u001b[0m \u001b[0mself\u001b[0m\u001b[0;34m.\u001b[0m\u001b[0musecols\u001b[0m\u001b[0;34m\u001b[0m\u001b[0;34m\u001b[0m\u001b[0m\n\u001b[1;32m   2009\u001b[0m \u001b[0;34m\u001b[0m\u001b[0m\n\u001b[0;32m-> 2010\u001b[0;31m         \u001b[0mself\u001b[0m\u001b[0;34m.\u001b[0m\u001b[0m_reader\u001b[0m \u001b[0;34m=\u001b[0m \u001b[0mparsers\u001b[0m\u001b[0;34m.\u001b[0m\u001b[0mTextReader\u001b[0m\u001b[0;34m(\u001b[0m\u001b[0msrc\u001b[0m\u001b[0;34m,\u001b[0m \u001b[0;34m**\u001b[0m\u001b[0mkwds\u001b[0m\u001b[0;34m)\u001b[0m\u001b[0;34m\u001b[0m\u001b[0;34m\u001b[0m\u001b[0m\n\u001b[0m\u001b[1;32m   2011\u001b[0m         \u001b[0mself\u001b[0m\u001b[0;34m.\u001b[0m\u001b[0munnamed_cols\u001b[0m \u001b[0;34m=\u001b[0m \u001b[0mself\u001b[0m\u001b[0;34m.\u001b[0m\u001b[0m_reader\u001b[0m\u001b[0;34m.\u001b[0m\u001b[0munnamed_cols\u001b[0m\u001b[0;34m\u001b[0m\u001b[0;34m\u001b[0m\u001b[0m\n\u001b[1;32m   2012\u001b[0m \u001b[0;34m\u001b[0m\u001b[0m\n",
            "\u001b[0;32mpandas/_libs/parsers.pyx\u001b[0m in \u001b[0;36mpandas._libs.parsers.TextReader.__cinit__\u001b[0;34m()\u001b[0m\n",
            "\u001b[0;32mpandas/_libs/parsers.pyx\u001b[0m in \u001b[0;36mpandas._libs.parsers.TextReader._setup_parser_source\u001b[0;34m()\u001b[0m\n",
            "\u001b[0;31mFileNotFoundError\u001b[0m: [Errno 2] No such file or directory: 'Twitter.csv'"
          ]
        }
      ]
    },
    {
      "cell_type": "code",
      "metadata": {
        "colab": {
          "base_uri": "https://localhost:8080/"
        },
        "id": "KRzRTJhuHIfx",
        "outputId": "dd13beeb-2a8d-4243-e88d-5c358bba2b48"
      },
      "source": [
        "text = df['Tweet'].tolist()\n",
        "print(len(text))"
      ],
      "execution_count": 5,
      "outputs": [
        {
          "output_type": "stream",
          "text": [
            "10806\n"
          ],
          "name": "stdout"
        }
      ]
    },
    {
      "cell_type": "code",
      "metadata": {
        "colab": {
          "base_uri": "https://localhost:8080/"
        },
        "id": "WdcRlWxdH6pw",
        "outputId": "3ce6affe-489b-4a1a-d38f-35d4c0642404"
      },
      "source": [
        "output = df['sentimen']\n",
        "output_converted = to_categorical(output)\n",
        "print(output_converted)"
      ],
      "execution_count": 6,
      "outputs": [
        {
          "output_type": "stream",
          "text": [
            "[[0. 0. 1.]\n",
            " [0. 0. 1.]\n",
            " [0. 1. 0.]\n",
            " ...\n",
            " [0. 1. 0.]\n",
            " [0. 1. 0.]\n",
            " [0. 1. 0.]]\n"
          ],
          "name": "stdout"
        }
      ]
    },
    {
      "cell_type": "code",
      "metadata": {
        "colab": {
          "base_uri": "https://localhost:8080/"
        },
        "id": "e9kEHmHdInnl",
        "outputId": "007c6676-bbd8-48a2-8fe8-4cb49f3c2dd3"
      },
      "source": [
        "df['sentimen'].value_counts()"
      ],
      "execution_count": 7,
      "outputs": [
        {
          "output_type": "execute_result",
          "data": {
            "text/plain": [
              "0    5327\n",
              "2    2887\n",
              "1    2592\n",
              "Name: sentimen, dtype: int64"
            ]
          },
          "metadata": {
            "tags": []
          },
          "execution_count": 7
        }
      ]
    },
    {
      "cell_type": "code",
      "metadata": {
        "colab": {
          "base_uri": "https://localhost:8080/",
          "height": 350
        },
        "id": "GMyKnkvWxai8",
        "outputId": "0c92f2e8-1981-4809-bb60-b7e44a7a453b"
      },
      "source": [
        "df['Tweet'].astype(str).astype(int)"
      ],
      "execution_count": 31,
      "outputs": [
        {
          "output_type": "error",
          "ename": "ValueError",
          "evalue": "ignored",
          "traceback": [
            "\u001b[0;31m---------------------------------------------------------------------------\u001b[0m",
            "\u001b[0;31mValueError\u001b[0m                                Traceback (most recent call last)",
            "\u001b[0;32m<ipython-input-31-493b381ca770>\u001b[0m in \u001b[0;36m<module>\u001b[0;34m()\u001b[0m\n\u001b[0;32m----> 1\u001b[0;31m \u001b[0mdf\u001b[0m\u001b[0;34m[\u001b[0m\u001b[0;34m'Tweet'\u001b[0m\u001b[0;34m]\u001b[0m\u001b[0;34m.\u001b[0m\u001b[0mastype\u001b[0m\u001b[0;34m(\u001b[0m\u001b[0mstr\u001b[0m\u001b[0;34m)\u001b[0m\u001b[0;34m.\u001b[0m\u001b[0mastype\u001b[0m\u001b[0;34m(\u001b[0m\u001b[0mint\u001b[0m\u001b[0;34m)\u001b[0m\u001b[0;34m\u001b[0m\u001b[0;34m\u001b[0m\u001b[0m\n\u001b[0m",
            "\u001b[0;32m/usr/local/lib/python3.7/dist-packages/pandas/core/generic.py\u001b[0m in \u001b[0;36mastype\u001b[0;34m(self, dtype, copy, errors)\u001b[0m\n\u001b[1;32m   5546\u001b[0m         \u001b[0;32melse\u001b[0m\u001b[0;34m:\u001b[0m\u001b[0;34m\u001b[0m\u001b[0;34m\u001b[0m\u001b[0m\n\u001b[1;32m   5547\u001b[0m             \u001b[0;31m# else, only a single dtype is given\u001b[0m\u001b[0;34m\u001b[0m\u001b[0;34m\u001b[0m\u001b[0;34m\u001b[0m\u001b[0m\n\u001b[0;32m-> 5548\u001b[0;31m             \u001b[0mnew_data\u001b[0m \u001b[0;34m=\u001b[0m \u001b[0mself\u001b[0m\u001b[0;34m.\u001b[0m\u001b[0m_mgr\u001b[0m\u001b[0;34m.\u001b[0m\u001b[0mastype\u001b[0m\u001b[0;34m(\u001b[0m\u001b[0mdtype\u001b[0m\u001b[0;34m=\u001b[0m\u001b[0mdtype\u001b[0m\u001b[0;34m,\u001b[0m \u001b[0mcopy\u001b[0m\u001b[0;34m=\u001b[0m\u001b[0mcopy\u001b[0m\u001b[0;34m,\u001b[0m \u001b[0merrors\u001b[0m\u001b[0;34m=\u001b[0m\u001b[0merrors\u001b[0m\u001b[0;34m,\u001b[0m\u001b[0;34m)\u001b[0m\u001b[0;34m\u001b[0m\u001b[0;34m\u001b[0m\u001b[0m\n\u001b[0m\u001b[1;32m   5549\u001b[0m             \u001b[0;32mreturn\u001b[0m \u001b[0mself\u001b[0m\u001b[0;34m.\u001b[0m\u001b[0m_constructor\u001b[0m\u001b[0;34m(\u001b[0m\u001b[0mnew_data\u001b[0m\u001b[0;34m)\u001b[0m\u001b[0;34m.\u001b[0m\u001b[0m__finalize__\u001b[0m\u001b[0;34m(\u001b[0m\u001b[0mself\u001b[0m\u001b[0;34m,\u001b[0m \u001b[0mmethod\u001b[0m\u001b[0;34m=\u001b[0m\u001b[0;34m\"astype\"\u001b[0m\u001b[0;34m)\u001b[0m\u001b[0;34m\u001b[0m\u001b[0;34m\u001b[0m\u001b[0m\n\u001b[1;32m   5550\u001b[0m \u001b[0;34m\u001b[0m\u001b[0m\n",
            "\u001b[0;32m/usr/local/lib/python3.7/dist-packages/pandas/core/internals/managers.py\u001b[0m in \u001b[0;36mastype\u001b[0;34m(self, dtype, copy, errors)\u001b[0m\n\u001b[1;32m    602\u001b[0m         \u001b[0mself\u001b[0m\u001b[0;34m,\u001b[0m \u001b[0mdtype\u001b[0m\u001b[0;34m,\u001b[0m \u001b[0mcopy\u001b[0m\u001b[0;34m:\u001b[0m \u001b[0mbool\u001b[0m \u001b[0;34m=\u001b[0m \u001b[0;32mFalse\u001b[0m\u001b[0;34m,\u001b[0m \u001b[0merrors\u001b[0m\u001b[0;34m:\u001b[0m \u001b[0mstr\u001b[0m \u001b[0;34m=\u001b[0m \u001b[0;34m\"raise\"\u001b[0m\u001b[0;34m\u001b[0m\u001b[0;34m\u001b[0m\u001b[0m\n\u001b[1;32m    603\u001b[0m     ) -> \"BlockManager\":\n\u001b[0;32m--> 604\u001b[0;31m         \u001b[0;32mreturn\u001b[0m \u001b[0mself\u001b[0m\u001b[0;34m.\u001b[0m\u001b[0mapply\u001b[0m\u001b[0;34m(\u001b[0m\u001b[0;34m\"astype\"\u001b[0m\u001b[0;34m,\u001b[0m \u001b[0mdtype\u001b[0m\u001b[0;34m=\u001b[0m\u001b[0mdtype\u001b[0m\u001b[0;34m,\u001b[0m \u001b[0mcopy\u001b[0m\u001b[0;34m=\u001b[0m\u001b[0mcopy\u001b[0m\u001b[0;34m,\u001b[0m \u001b[0merrors\u001b[0m\u001b[0;34m=\u001b[0m\u001b[0merrors\u001b[0m\u001b[0;34m)\u001b[0m\u001b[0;34m\u001b[0m\u001b[0;34m\u001b[0m\u001b[0m\n\u001b[0m\u001b[1;32m    605\u001b[0m \u001b[0;34m\u001b[0m\u001b[0m\n\u001b[1;32m    606\u001b[0m     def convert(\n",
            "\u001b[0;32m/usr/local/lib/python3.7/dist-packages/pandas/core/internals/managers.py\u001b[0m in \u001b[0;36mapply\u001b[0;34m(self, f, align_keys, **kwargs)\u001b[0m\n\u001b[1;32m    407\u001b[0m                 \u001b[0mapplied\u001b[0m \u001b[0;34m=\u001b[0m \u001b[0mb\u001b[0m\u001b[0;34m.\u001b[0m\u001b[0mapply\u001b[0m\u001b[0;34m(\u001b[0m\u001b[0mf\u001b[0m\u001b[0;34m,\u001b[0m \u001b[0;34m**\u001b[0m\u001b[0mkwargs\u001b[0m\u001b[0;34m)\u001b[0m\u001b[0;34m\u001b[0m\u001b[0;34m\u001b[0m\u001b[0m\n\u001b[1;32m    408\u001b[0m             \u001b[0;32melse\u001b[0m\u001b[0;34m:\u001b[0m\u001b[0;34m\u001b[0m\u001b[0;34m\u001b[0m\u001b[0m\n\u001b[0;32m--> 409\u001b[0;31m                 \u001b[0mapplied\u001b[0m \u001b[0;34m=\u001b[0m \u001b[0mgetattr\u001b[0m\u001b[0;34m(\u001b[0m\u001b[0mb\u001b[0m\u001b[0;34m,\u001b[0m \u001b[0mf\u001b[0m\u001b[0;34m)\u001b[0m\u001b[0;34m(\u001b[0m\u001b[0;34m**\u001b[0m\u001b[0mkwargs\u001b[0m\u001b[0;34m)\u001b[0m\u001b[0;34m\u001b[0m\u001b[0;34m\u001b[0m\u001b[0m\n\u001b[0m\u001b[1;32m    410\u001b[0m             \u001b[0mresult_blocks\u001b[0m \u001b[0;34m=\u001b[0m \u001b[0m_extend_blocks\u001b[0m\u001b[0;34m(\u001b[0m\u001b[0mapplied\u001b[0m\u001b[0;34m,\u001b[0m \u001b[0mresult_blocks\u001b[0m\u001b[0;34m)\u001b[0m\u001b[0;34m\u001b[0m\u001b[0;34m\u001b[0m\u001b[0m\n\u001b[1;32m    411\u001b[0m \u001b[0;34m\u001b[0m\u001b[0m\n",
            "\u001b[0;32m/usr/local/lib/python3.7/dist-packages/pandas/core/internals/blocks.py\u001b[0m in \u001b[0;36mastype\u001b[0;34m(self, dtype, copy, errors)\u001b[0m\n\u001b[1;32m    593\u001b[0m             \u001b[0mvals1d\u001b[0m \u001b[0;34m=\u001b[0m \u001b[0mvalues\u001b[0m\u001b[0;34m.\u001b[0m\u001b[0mravel\u001b[0m\u001b[0;34m(\u001b[0m\u001b[0;34m)\u001b[0m\u001b[0;34m\u001b[0m\u001b[0;34m\u001b[0m\u001b[0m\n\u001b[1;32m    594\u001b[0m             \u001b[0;32mtry\u001b[0m\u001b[0;34m:\u001b[0m\u001b[0;34m\u001b[0m\u001b[0;34m\u001b[0m\u001b[0m\n\u001b[0;32m--> 595\u001b[0;31m                 \u001b[0mvalues\u001b[0m \u001b[0;34m=\u001b[0m \u001b[0mastype_nansafe\u001b[0m\u001b[0;34m(\u001b[0m\u001b[0mvals1d\u001b[0m\u001b[0;34m,\u001b[0m \u001b[0mdtype\u001b[0m\u001b[0;34m,\u001b[0m \u001b[0mcopy\u001b[0m\u001b[0;34m=\u001b[0m\u001b[0;32mTrue\u001b[0m\u001b[0;34m)\u001b[0m\u001b[0;34m\u001b[0m\u001b[0;34m\u001b[0m\u001b[0m\n\u001b[0m\u001b[1;32m    596\u001b[0m             \u001b[0;32mexcept\u001b[0m \u001b[0;34m(\u001b[0m\u001b[0mValueError\u001b[0m\u001b[0;34m,\u001b[0m \u001b[0mTypeError\u001b[0m\u001b[0;34m)\u001b[0m\u001b[0;34m:\u001b[0m\u001b[0;34m\u001b[0m\u001b[0;34m\u001b[0m\u001b[0m\n\u001b[1;32m    597\u001b[0m                 \u001b[0;31m# e.g. astype_nansafe can fail on object-dtype of strings\u001b[0m\u001b[0;34m\u001b[0m\u001b[0;34m\u001b[0m\u001b[0;34m\u001b[0m\u001b[0m\n",
            "\u001b[0;32m/usr/local/lib/python3.7/dist-packages/pandas/core/dtypes/cast.py\u001b[0m in \u001b[0;36mastype_nansafe\u001b[0;34m(arr, dtype, copy, skipna)\u001b[0m\n\u001b[1;32m    972\u001b[0m         \u001b[0;31m# work around NumPy brokenness, #1987\u001b[0m\u001b[0;34m\u001b[0m\u001b[0;34m\u001b[0m\u001b[0;34m\u001b[0m\u001b[0m\n\u001b[1;32m    973\u001b[0m         \u001b[0;32mif\u001b[0m \u001b[0mnp\u001b[0m\u001b[0;34m.\u001b[0m\u001b[0missubdtype\u001b[0m\u001b[0;34m(\u001b[0m\u001b[0mdtype\u001b[0m\u001b[0;34m.\u001b[0m\u001b[0mtype\u001b[0m\u001b[0;34m,\u001b[0m \u001b[0mnp\u001b[0m\u001b[0;34m.\u001b[0m\u001b[0minteger\u001b[0m\u001b[0;34m)\u001b[0m\u001b[0;34m:\u001b[0m\u001b[0;34m\u001b[0m\u001b[0;34m\u001b[0m\u001b[0m\n\u001b[0;32m--> 974\u001b[0;31m             \u001b[0;32mreturn\u001b[0m \u001b[0mlib\u001b[0m\u001b[0;34m.\u001b[0m\u001b[0mastype_intsafe\u001b[0m\u001b[0;34m(\u001b[0m\u001b[0marr\u001b[0m\u001b[0;34m.\u001b[0m\u001b[0mravel\u001b[0m\u001b[0;34m(\u001b[0m\u001b[0;34m)\u001b[0m\u001b[0;34m,\u001b[0m \u001b[0mdtype\u001b[0m\u001b[0;34m)\u001b[0m\u001b[0;34m.\u001b[0m\u001b[0mreshape\u001b[0m\u001b[0;34m(\u001b[0m\u001b[0marr\u001b[0m\u001b[0;34m.\u001b[0m\u001b[0mshape\u001b[0m\u001b[0;34m)\u001b[0m\u001b[0;34m\u001b[0m\u001b[0;34m\u001b[0m\u001b[0m\n\u001b[0m\u001b[1;32m    975\u001b[0m \u001b[0;34m\u001b[0m\u001b[0m\n\u001b[1;32m    976\u001b[0m         \u001b[0;31m# if we have a datetime/timedelta array of objects\u001b[0m\u001b[0;34m\u001b[0m\u001b[0;34m\u001b[0m\u001b[0;34m\u001b[0m\u001b[0m\n",
            "\u001b[0;32mpandas/_libs/lib.pyx\u001b[0m in \u001b[0;36mpandas._libs.lib.astype_intsafe\u001b[0;34m()\u001b[0m\n",
            "\u001b[0;31mValueError\u001b[0m: invalid literal for int() with base 10: 'lagu bosan apa yang aku save ni huhuhuhuhuhuhuhuhuhuuuuuuuuuuuuuu'"
          ]
        }
      ]
    },
    {
      "cell_type": "code",
      "metadata": {
        "id": "VuT_oUKsJuou"
      },
      "source": [
        "import json\n",
        "\n",
        "TRAINING_SIZE = 10000\n",
        "\n",
        "#with open(\"Tweet.json\", 'r') as f:\n",
        "    #datastore = json.load(f)\n",
        "#def convert_tweet_to_int(my_dict):\n",
        "    #my_dict['Tweet'] = int(my_dict['Tweet'])\n",
        "    #return my_dict\n",
        "\n",
        "with open(\"Tweet.json\", 'r') as f:\n",
        "    datastore = json.load(f)\n",
        "\n",
        "#result = json.loads(my_json_str, object_hook=convert_class_to_int)\n",
        "#print(datastore)\n",
        "\n",
        "sentences = []\n",
        "labels = []\n",
        "\n",
        "for items in datastore :\n",
        "  sentences.append(items['Tweet'])\n",
        "  labels.append(items['sentimen'])\n",
        "\n",
        "training_sentences = sentences[0:TRAINING_SIZE]\n",
        "validation_sentences = sentences[TRAINING_SIZE:]\n",
        "training_labels = labels[0:TRAINING_SIZE]\n",
        "validation_labels = labels[TRAINING_SIZE:]"
      ],
      "execution_count": 16,
      "outputs": []
    },
    {
      "cell_type": "code",
      "metadata": {
        "colab": {
          "base_uri": "https://localhost:8080/"
        },
        "id": "KJcZrG_0RCY2",
        "outputId": "2a0fd440-1279-4645-fea8-e5808b842355"
      },
      "source": [
        "print(len(training_sentences))\n",
        "print(len(validation_sentences))"
      ],
      "execution_count": 17,
      "outputs": [
        {
          "output_type": "stream",
          "text": [
            "10000\n",
            "806\n"
          ],
          "name": "stdout"
        }
      ]
    },
    {
      "cell_type": "markdown",
      "metadata": {
        "id": "IKwAqqJeJM1S"
      },
      "source": [
        "# **3. Setup BERT and Train the Model**"
      ]
    },
    {
      "cell_type": "code",
      "metadata": {
        "id": "f9ox7U7lJGGx"
      },
      "source": [
        "#Assign the tokenizer\n",
        "tokenizer = DistilBertTokenizerFast.from_pretrained('distilbert-base-uncased')"
      ],
      "execution_count": 18,
      "outputs": []
    },
    {
      "cell_type": "code",
      "metadata": {
        "id": "WDbvTBgbJb9H"
      },
      "source": [
        "#Do the encodings of training sentences and validation sentences\n",
        "train_encodings = tokenizer(training_sentences, truncation= True, padding= True)\n",
        "val_encodings = tokenizer(validation_sentences, truncation= True, padding = True)"
      ],
      "execution_count": 19,
      "outputs": []
    },
    {
      "cell_type": "code",
      "metadata": {
        "id": "MQeAyKKqOS5q"
      },
      "source": [
        "#Create TF Dataset and Map the dataset to labels\n",
        "train_dataset = tf.data.Dataset.from_tensor_slices((\n",
        "    dict(train_encodings),\n",
        "    training_labels\n",
        "))\n",
        "\n",
        "val_dataset = tf.data.Dataset.from_tensor_slices((\n",
        "    dict(val_encodings),\n",
        "    validation_labels\n",
        "))"
      ],
      "execution_count": 20,
      "outputs": []
    },
    {
      "cell_type": "code",
      "metadata": {
        "colab": {
          "base_uri": "https://localhost:8080/",
          "height": 224,
          "referenced_widgets": [
            "667db071bee3490591e7206d227fcc5b",
            "51d4bb501a8e43d0beaf63f3294e5438",
            "51975edc28d844acb484eb6cfa723bce",
            "8c9c3daf723b42f3bbbc9c35310447d7",
            "9411f15658794c28bb66033b3b43b2a8",
            "9227f5db179c4fa09488db2582fd7e61",
            "1f9ac7f55c10499a9cee06f38f2542b6",
            "218e84dcad0848418e0b1f9d623ce788",
            "c0422b89b2764062b949ea82520bbdc6",
            "a1ee6e9ee4f54112b71f3aab3a407c44",
            "5c6454624ddf455cbf48e1ccda5cc5a4",
            "493b5650e1f84b2ea492e69ca1a9a16a",
            "ad1fc3088e9f47ae936f191b3139a1cc",
            "6d099a91baaf4620af207b70cf565e6a",
            "0cd200fdf311488f85d24c0641d342ab",
            "ab1135bc01f24a03a005758ed28f6b02"
          ]
        },
        "id": "uc7YAfm9OwDv",
        "outputId": "f7626cb8-27c3-4d2a-c152-f64dd079eb4c"
      },
      "source": [
        "#Assign the Model\n",
        "model = TFDistilBertForSequenceClassification.from_pretrained('distilbert-base-uncased', num_labels = 3)"
      ],
      "execution_count": 21,
      "outputs": [
        {
          "output_type": "display_data",
          "data": {
            "application/vnd.jupyter.widget-view+json": {
              "model_id": "667db071bee3490591e7206d227fcc5b",
              "version_minor": 0,
              "version_major": 2
            },
            "text/plain": [
              "HBox(children=(FloatProgress(value=0.0, description='Downloading', max=442.0, style=ProgressStyle(description_…"
            ]
          },
          "metadata": {
            "tags": []
          }
        },
        {
          "output_type": "stream",
          "text": [
            "\n"
          ],
          "name": "stdout"
        },
        {
          "output_type": "display_data",
          "data": {
            "application/vnd.jupyter.widget-view+json": {
              "model_id": "c0422b89b2764062b949ea82520bbdc6",
              "version_minor": 0,
              "version_major": 2
            },
            "text/plain": [
              "HBox(children=(FloatProgress(value=0.0, description='Downloading', max=363423424.0, style=ProgressStyle(descri…"
            ]
          },
          "metadata": {
            "tags": []
          }
        },
        {
          "output_type": "stream",
          "text": [
            "\n"
          ],
          "name": "stdout"
        },
        {
          "output_type": "stream",
          "text": [
            "Some weights of the model checkpoint at distilbert-base-uncased were not used when initializing TFDistilBertForSequenceClassification: ['vocab_layer_norm', 'vocab_projector', 'vocab_transform', 'activation_13']\n",
            "- This IS expected if you are initializing TFDistilBertForSequenceClassification from the checkpoint of a model trained on another task or with another architecture (e.g. initializing a BertForSequenceClassification model from a BertForPretraining model).\n",
            "- This IS NOT expected if you are initializing TFDistilBertForSequenceClassification from the checkpoint of a model that you expect to be exactly identical (initializing a BertForSequenceClassification model from a BertForSequenceClassification model).\n",
            "Some weights of TFDistilBertForSequenceClassification were not initialized from the model checkpoint at distilbert-base-uncased and are newly initialized: ['pre_classifier', 'classifier', 'dropout_19']\n",
            "You should probably TRAIN this model on a down-stream task to be able to use it for predictions and inference.\n"
          ],
          "name": "stderr"
        }
      ]
    },
    {
      "cell_type": "code",
      "metadata": {
        "colab": {
          "base_uri": "https://localhost:8080/"
        },
        "id": "94x_Wj_-U-eK",
        "outputId": "25348c92-1771-4eab-9537-6c7d15407a8b"
      },
      "source": [
        "#Compile the model\n",
        "optimizer = tf.keras.optimizers.Adam(learning_rate=5e-5)\n",
        "model.compile(optimizer=optimizer, loss=model.compute_loss, metrics=['accuracy'])\n",
        "history = model.fit(train_dataset.shuffle(100).batch(16),\n",
        "          epochs=100,\n",
        "          batch_size=16,\n",
        "          validation_data=val_dataset.shuffle(100).batch(16))"
      ],
      "execution_count": 23,
      "outputs": [
        {
          "output_type": "stream",
          "text": [
            "Epoch 1/100\n",
            "625/625 [==============================] - 76s 111ms/step - loss: 0.4739 - accuracy: 0.8108 - val_loss: 1.0453 - val_accuracy: 0.5819\n",
            "Epoch 2/100\n",
            "625/625 [==============================] - 68s 109ms/step - loss: 0.3400 - accuracy: 0.8692 - val_loss: 1.3282 - val_accuracy: 0.5757\n",
            "Epoch 3/100\n",
            "625/625 [==============================] - 68s 109ms/step - loss: 0.2562 - accuracy: 0.9059 - val_loss: 1.4262 - val_accuracy: 0.5955\n",
            "Epoch 4/100\n",
            "625/625 [==============================] - 68s 109ms/step - loss: 0.2287 - accuracy: 0.9165 - val_loss: 1.4363 - val_accuracy: 0.5918\n",
            "Epoch 5/100\n",
            "625/625 [==============================] - 68s 109ms/step - loss: 0.1991 - accuracy: 0.9266 - val_loss: 1.6969 - val_accuracy: 0.5732\n",
            "Epoch 6/100\n",
            "625/625 [==============================] - 68s 109ms/step - loss: 0.1830 - accuracy: 0.9347 - val_loss: 1.4880 - val_accuracy: 0.6117\n",
            "Epoch 7/100\n",
            "625/625 [==============================] - 68s 108ms/step - loss: 0.1682 - accuracy: 0.9402 - val_loss: 1.9324 - val_accuracy: 0.5769\n",
            "Epoch 8/100\n",
            "625/625 [==============================] - 68s 109ms/step - loss: 0.1540 - accuracy: 0.9468 - val_loss: 1.9173 - val_accuracy: 0.5844\n",
            "Epoch 9/100\n",
            "625/625 [==============================] - 68s 109ms/step - loss: 0.1392 - accuracy: 0.9487 - val_loss: 1.6252 - val_accuracy: 0.6030\n",
            "Epoch 10/100\n",
            "625/625 [==============================] - 68s 109ms/step - loss: 0.1273 - accuracy: 0.9523 - val_loss: 2.2652 - val_accuracy: 0.5608\n",
            "Epoch 11/100\n",
            "625/625 [==============================] - 68s 109ms/step - loss: 0.1245 - accuracy: 0.9533 - val_loss: 2.0319 - val_accuracy: 0.5533\n",
            "Epoch 12/100\n",
            "625/625 [==============================] - 68s 108ms/step - loss: 0.1220 - accuracy: 0.9533 - val_loss: 1.8162 - val_accuracy: 0.5931\n",
            "Epoch 13/100\n",
            "625/625 [==============================] - 68s 109ms/step - loss: 0.1116 - accuracy: 0.9567 - val_loss: 1.9537 - val_accuracy: 0.5707\n",
            "Epoch 14/100\n",
            "625/625 [==============================] - 68s 109ms/step - loss: 0.1189 - accuracy: 0.9533 - val_loss: 2.3700 - val_accuracy: 0.5434\n",
            "Epoch 15/100\n",
            "625/625 [==============================] - 68s 109ms/step - loss: 0.1004 - accuracy: 0.9593 - val_loss: 2.2856 - val_accuracy: 0.5720\n",
            "Epoch 16/100\n",
            "625/625 [==============================] - 68s 109ms/step - loss: 0.1085 - accuracy: 0.9570 - val_loss: 2.4755 - val_accuracy: 0.5732\n",
            "Epoch 17/100\n",
            "625/625 [==============================] - 68s 109ms/step - loss: 0.1077 - accuracy: 0.9547 - val_loss: 2.4593 - val_accuracy: 0.5906\n",
            "Epoch 18/100\n",
            "625/625 [==============================] - 68s 109ms/step - loss: 0.0960 - accuracy: 0.9597 - val_loss: 2.3595 - val_accuracy: 0.5546\n",
            "Epoch 19/100\n",
            "625/625 [==============================] - 68s 109ms/step - loss: 0.0999 - accuracy: 0.9589 - val_loss: 2.5034 - val_accuracy: 0.5918\n",
            "Epoch 20/100\n",
            "625/625 [==============================] - 68s 108ms/step - loss: 0.0954 - accuracy: 0.9561 - val_loss: 2.4064 - val_accuracy: 0.5893\n",
            "Epoch 21/100\n",
            "625/625 [==============================] - 68s 108ms/step - loss: 0.0939 - accuracy: 0.9573 - val_loss: 2.4358 - val_accuracy: 0.5831\n",
            "Epoch 22/100\n",
            "625/625 [==============================] - 68s 108ms/step - loss: 0.0938 - accuracy: 0.9580 - val_loss: 2.6058 - val_accuracy: 0.5360\n",
            "Epoch 23/100\n",
            "625/625 [==============================] - 67s 108ms/step - loss: 0.0918 - accuracy: 0.9574 - val_loss: 2.1927 - val_accuracy: 0.5794\n",
            "Epoch 24/100\n",
            "625/625 [==============================] - 67s 108ms/step - loss: 0.0885 - accuracy: 0.9604 - val_loss: 2.5854 - val_accuracy: 0.5620\n",
            "Epoch 25/100\n",
            "625/625 [==============================] - 68s 108ms/step - loss: 0.0836 - accuracy: 0.9604 - val_loss: 2.3723 - val_accuracy: 0.5757\n",
            "Epoch 26/100\n",
            "625/625 [==============================] - 68s 109ms/step - loss: 0.0887 - accuracy: 0.9603 - val_loss: 2.1800 - val_accuracy: 0.5695\n",
            "Epoch 27/100\n",
            "625/625 [==============================] - 68s 109ms/step - loss: 0.0751 - accuracy: 0.9636 - val_loss: 2.4113 - val_accuracy: 0.5794\n",
            "Epoch 28/100\n",
            "625/625 [==============================] - 68s 109ms/step - loss: 0.0826 - accuracy: 0.9596 - val_loss: 2.8600 - val_accuracy: 0.5720\n",
            "Epoch 29/100\n",
            "625/625 [==============================] - 68s 108ms/step - loss: 0.0821 - accuracy: 0.9594 - val_loss: 2.2624 - val_accuracy: 0.5968\n",
            "Epoch 30/100\n",
            "625/625 [==============================] - 68s 108ms/step - loss: 0.0796 - accuracy: 0.9661 - val_loss: 2.3109 - val_accuracy: 0.5918\n",
            "Epoch 31/100\n",
            "625/625 [==============================] - 68s 109ms/step - loss: 0.0736 - accuracy: 0.9649 - val_loss: 2.4884 - val_accuracy: 0.5645\n",
            "Epoch 32/100\n",
            "625/625 [==============================] - 68s 109ms/step - loss: 0.0810 - accuracy: 0.9635 - val_loss: 2.2889 - val_accuracy: 0.5744\n",
            "Epoch 33/100\n",
            "625/625 [==============================] - 68s 109ms/step - loss: 0.0796 - accuracy: 0.9640 - val_loss: 3.1169 - val_accuracy: 0.5868\n",
            "Epoch 34/100\n",
            "625/625 [==============================] - 68s 108ms/step - loss: 0.0948 - accuracy: 0.9603 - val_loss: 2.9272 - val_accuracy: 0.5881\n",
            "Epoch 35/100\n",
            "625/625 [==============================] - 68s 108ms/step - loss: 0.0839 - accuracy: 0.9624 - val_loss: 2.4513 - val_accuracy: 0.5707\n",
            "Epoch 36/100\n",
            "625/625 [==============================] - 68s 108ms/step - loss: 0.0736 - accuracy: 0.9669 - val_loss: 2.6356 - val_accuracy: 0.5769\n",
            "Epoch 37/100\n",
            "625/625 [==============================] - 68s 109ms/step - loss: 0.0689 - accuracy: 0.9663 - val_loss: 2.6564 - val_accuracy: 0.5868\n",
            "Epoch 38/100\n",
            "625/625 [==============================] - 68s 108ms/step - loss: 0.0793 - accuracy: 0.9666 - val_loss: 2.4110 - val_accuracy: 0.5943\n",
            "Epoch 39/100\n",
            "625/625 [==============================] - 68s 108ms/step - loss: 0.0851 - accuracy: 0.9655 - val_loss: 2.5533 - val_accuracy: 0.5980\n",
            "Epoch 40/100\n",
            "625/625 [==============================] - 68s 108ms/step - loss: 0.0748 - accuracy: 0.9628 - val_loss: 2.4539 - val_accuracy: 0.5682\n",
            "Epoch 41/100\n",
            "625/625 [==============================] - 68s 108ms/step - loss: 0.0763 - accuracy: 0.9648 - val_loss: 2.6024 - val_accuracy: 0.5819\n",
            "Epoch 42/100\n",
            "625/625 [==============================] - 68s 108ms/step - loss: 0.0687 - accuracy: 0.9667 - val_loss: 2.5309 - val_accuracy: 0.5645\n",
            "Epoch 43/100\n",
            "625/625 [==============================] - 68s 108ms/step - loss: 0.0733 - accuracy: 0.9642 - val_loss: 2.8914 - val_accuracy: 0.5844\n",
            "Epoch 44/100\n",
            "625/625 [==============================] - 68s 108ms/step - loss: 0.0741 - accuracy: 0.9653 - val_loss: 2.7799 - val_accuracy: 0.5533\n",
            "Epoch 45/100\n",
            "625/625 [==============================] - 68s 108ms/step - loss: 0.0775 - accuracy: 0.9660 - val_loss: 2.8842 - val_accuracy: 0.5757\n",
            "Epoch 46/100\n",
            "625/625 [==============================] - 68s 109ms/step - loss: 0.0687 - accuracy: 0.9635 - val_loss: 2.5888 - val_accuracy: 0.5893\n",
            "Epoch 47/100\n",
            "625/625 [==============================] - 68s 108ms/step - loss: 0.0637 - accuracy: 0.9647 - val_loss: 2.8411 - val_accuracy: 0.6154\n",
            "Epoch 48/100\n",
            "625/625 [==============================] - 68s 108ms/step - loss: 0.0705 - accuracy: 0.9651 - val_loss: 2.9810 - val_accuracy: 0.5931\n",
            "Epoch 49/100\n",
            "625/625 [==============================] - 68s 108ms/step - loss: 0.0697 - accuracy: 0.9656 - val_loss: 2.4183 - val_accuracy: 0.6141\n",
            "Epoch 50/100\n",
            "625/625 [==============================] - 68s 108ms/step - loss: 0.0760 - accuracy: 0.9610 - val_loss: 3.0113 - val_accuracy: 0.6129\n",
            "Epoch 51/100\n",
            "625/625 [==============================] - 68s 108ms/step - loss: 0.0677 - accuracy: 0.9652 - val_loss: 3.0225 - val_accuracy: 0.5968\n",
            "Epoch 52/100\n",
            "625/625 [==============================] - 68s 109ms/step - loss: 0.0612 - accuracy: 0.9700 - val_loss: 2.8712 - val_accuracy: 0.6203\n",
            "Epoch 53/100\n",
            "625/625 [==============================] - 68s 109ms/step - loss: 0.0684 - accuracy: 0.9661 - val_loss: 2.5481 - val_accuracy: 0.6005\n",
            "Epoch 54/100\n",
            "625/625 [==============================] - 68s 109ms/step - loss: 0.0744 - accuracy: 0.9623 - val_loss: 2.7118 - val_accuracy: 0.5893\n",
            "Epoch 55/100\n",
            "625/625 [==============================] - 68s 109ms/step - loss: 0.0702 - accuracy: 0.9648 - val_loss: 2.7163 - val_accuracy: 0.6104\n",
            "Epoch 56/100\n",
            "625/625 [==============================] - 68s 109ms/step - loss: 0.0766 - accuracy: 0.9627 - val_loss: 2.9076 - val_accuracy: 0.5868\n",
            "Epoch 57/100\n",
            "625/625 [==============================] - 68s 109ms/step - loss: 0.0729 - accuracy: 0.9661 - val_loss: 2.7312 - val_accuracy: 0.6005\n",
            "Epoch 58/100\n",
            "625/625 [==============================] - 68s 108ms/step - loss: 0.0670 - accuracy: 0.9651 - val_loss: 2.9133 - val_accuracy: 0.5980\n",
            "Epoch 59/100\n",
            "625/625 [==============================] - 68s 109ms/step - loss: 0.0709 - accuracy: 0.9648 - val_loss: 2.7443 - val_accuracy: 0.6030\n",
            "Epoch 60/100\n",
            "625/625 [==============================] - 68s 109ms/step - loss: 0.0645 - accuracy: 0.9652 - val_loss: 3.5788 - val_accuracy: 0.5980\n",
            "Epoch 61/100\n",
            "625/625 [==============================] - 68s 109ms/step - loss: 0.0682 - accuracy: 0.9660 - val_loss: 3.1110 - val_accuracy: 0.5571\n",
            "Epoch 62/100\n",
            "625/625 [==============================] - 68s 108ms/step - loss: 0.0694 - accuracy: 0.9643 - val_loss: 2.6807 - val_accuracy: 0.5968\n",
            "Epoch 63/100\n",
            "625/625 [==============================] - 68s 109ms/step - loss: 0.0706 - accuracy: 0.9667 - val_loss: 2.6601 - val_accuracy: 0.6030\n",
            "Epoch 64/100\n",
            "625/625 [==============================] - 68s 109ms/step - loss: 0.0769 - accuracy: 0.9658 - val_loss: 2.3913 - val_accuracy: 0.5571\n",
            "Epoch 65/100\n",
            "625/625 [==============================] - 68s 109ms/step - loss: 0.0625 - accuracy: 0.9671 - val_loss: 2.8252 - val_accuracy: 0.5918\n",
            "Epoch 66/100\n",
            "625/625 [==============================] - 68s 108ms/step - loss: 0.0613 - accuracy: 0.9676 - val_loss: 2.6824 - val_accuracy: 0.5868\n",
            "Epoch 67/100\n",
            "625/625 [==============================] - 68s 109ms/step - loss: 0.0636 - accuracy: 0.9657 - val_loss: 2.7437 - val_accuracy: 0.5757\n",
            "Epoch 68/100\n",
            "625/625 [==============================] - 68s 108ms/step - loss: 0.0624 - accuracy: 0.9666 - val_loss: 3.3700 - val_accuracy: 0.5794\n",
            "Epoch 69/100\n",
            "625/625 [==============================] - 68s 109ms/step - loss: 0.0657 - accuracy: 0.9658 - val_loss: 3.1237 - val_accuracy: 0.5931\n",
            "Epoch 70/100\n",
            "625/625 [==============================] - 68s 109ms/step - loss: 0.0690 - accuracy: 0.9643 - val_loss: 3.4817 - val_accuracy: 0.5720\n",
            "Epoch 71/100\n",
            "625/625 [==============================] - 68s 109ms/step - loss: 0.0677 - accuracy: 0.9677 - val_loss: 2.8992 - val_accuracy: 0.5744\n",
            "Epoch 72/100\n",
            "625/625 [==============================] - 68s 109ms/step - loss: 0.0700 - accuracy: 0.9629 - val_loss: 2.8087 - val_accuracy: 0.5633\n",
            "Epoch 73/100\n",
            "625/625 [==============================] - 68s 109ms/step - loss: 0.0649 - accuracy: 0.9684 - val_loss: 2.9188 - val_accuracy: 0.5720\n",
            "Epoch 74/100\n",
            "625/625 [==============================] - 68s 109ms/step - loss: 0.0658 - accuracy: 0.9645 - val_loss: 3.1511 - val_accuracy: 0.5844\n",
            "Epoch 75/100\n",
            "625/625 [==============================] - 68s 109ms/step - loss: 0.0679 - accuracy: 0.9662 - val_loss: 3.3961 - val_accuracy: 0.5806\n",
            "Epoch 76/100\n",
            "625/625 [==============================] - 68s 109ms/step - loss: 0.0608 - accuracy: 0.9669 - val_loss: 2.7378 - val_accuracy: 0.5645\n",
            "Epoch 77/100\n",
            "625/625 [==============================] - 68s 109ms/step - loss: 0.0668 - accuracy: 0.9664 - val_loss: 3.3011 - val_accuracy: 0.5757\n",
            "Epoch 78/100\n",
            "625/625 [==============================] - 68s 109ms/step - loss: 0.0578 - accuracy: 0.9687 - val_loss: 3.0499 - val_accuracy: 0.5732\n",
            "Epoch 79/100\n",
            "625/625 [==============================] - 68s 109ms/step - loss: 0.0614 - accuracy: 0.9677 - val_loss: 3.3309 - val_accuracy: 0.5980\n",
            "Epoch 80/100\n",
            "625/625 [==============================] - 68s 108ms/step - loss: 0.0789 - accuracy: 0.9629 - val_loss: 2.8552 - val_accuracy: 0.5980\n",
            "Epoch 81/100\n",
            "625/625 [==============================] - 68s 109ms/step - loss: 0.0663 - accuracy: 0.9682 - val_loss: 3.0136 - val_accuracy: 0.5682\n",
            "Epoch 82/100\n",
            "625/625 [==============================] - 68s 109ms/step - loss: 0.0659 - accuracy: 0.9668 - val_loss: 3.0424 - val_accuracy: 0.5707\n",
            "Epoch 83/100\n",
            "625/625 [==============================] - 68s 108ms/step - loss: 0.0621 - accuracy: 0.9694 - val_loss: 2.9222 - val_accuracy: 0.5782\n",
            "Epoch 84/100\n",
            "625/625 [==============================] - 68s 108ms/step - loss: 0.0621 - accuracy: 0.9682 - val_loss: 3.7167 - val_accuracy: 0.5558\n",
            "Epoch 85/100\n",
            "625/625 [==============================] - 68s 109ms/step - loss: 0.0665 - accuracy: 0.9667 - val_loss: 3.0687 - val_accuracy: 0.5645\n",
            "Epoch 86/100\n",
            "625/625 [==============================] - 68s 109ms/step - loss: 0.0684 - accuracy: 0.9672 - val_loss: 2.9642 - val_accuracy: 0.5732\n",
            "Epoch 87/100\n",
            "625/625 [==============================] - 68s 109ms/step - loss: 0.0603 - accuracy: 0.9661 - val_loss: 2.9492 - val_accuracy: 0.6005\n",
            "Epoch 88/100\n",
            "625/625 [==============================] - 68s 109ms/step - loss: 0.0644 - accuracy: 0.9654 - val_loss: 2.9452 - val_accuracy: 0.5608\n",
            "Epoch 89/100\n",
            "625/625 [==============================] - 68s 108ms/step - loss: 0.0595 - accuracy: 0.9668 - val_loss: 3.1828 - val_accuracy: 0.5943\n",
            "Epoch 90/100\n",
            "625/625 [==============================] - 68s 109ms/step - loss: 0.0636 - accuracy: 0.9665 - val_loss: 3.2928 - val_accuracy: 0.5856\n",
            "Epoch 91/100\n",
            "625/625 [==============================] - 68s 109ms/step - loss: 0.0628 - accuracy: 0.9653 - val_loss: 2.8792 - val_accuracy: 0.5620\n",
            "Epoch 92/100\n",
            "625/625 [==============================] - 68s 109ms/step - loss: 0.0668 - accuracy: 0.9630 - val_loss: 3.1122 - val_accuracy: 0.5893\n",
            "Epoch 93/100\n",
            "625/625 [==============================] - 68s 109ms/step - loss: 0.0645 - accuracy: 0.9664 - val_loss: 2.9603 - val_accuracy: 0.5943\n",
            "Epoch 94/100\n",
            "625/625 [==============================] - 68s 109ms/step - loss: 0.0584 - accuracy: 0.9658 - val_loss: 3.0243 - val_accuracy: 0.5782\n",
            "Epoch 95/100\n",
            "625/625 [==============================] - 68s 109ms/step - loss: 0.0623 - accuracy: 0.9649 - val_loss: 2.9121 - val_accuracy: 0.5844\n",
            "Epoch 96/100\n",
            "625/625 [==============================] - 68s 108ms/step - loss: 0.0638 - accuracy: 0.9686 - val_loss: 3.3799 - val_accuracy: 0.5831\n",
            "Epoch 97/100\n",
            "625/625 [==============================] - 68s 108ms/step - loss: 0.0652 - accuracy: 0.9662 - val_loss: 2.7694 - val_accuracy: 0.5757\n",
            "Epoch 98/100\n",
            "625/625 [==============================] - 68s 108ms/step - loss: 0.0649 - accuracy: 0.9681 - val_loss: 3.1319 - val_accuracy: 0.5881\n",
            "Epoch 99/100\n",
            "625/625 [==============================] - 68s 109ms/step - loss: 0.0593 - accuracy: 0.9664 - val_loss: 2.8335 - val_accuracy: 0.5893\n",
            "Epoch 100/100\n",
            "625/625 [==============================] - 68s 109ms/step - loss: 0.0691 - accuracy: 0.9657 - val_loss: 3.0841 - val_accuracy: 0.5856\n"
          ],
          "name": "stdout"
        }
      ]
    },
    {
      "cell_type": "markdown",
      "metadata": {
        "id": "IOsgo0dDbYdY"
      },
      "source": [
        "# **4. Visualization**"
      ]
    },
    {
      "cell_type": "code",
      "metadata": {
        "colab": {
          "base_uri": "https://localhost:8080/",
          "height": 295
        },
        "id": "I_0x8WkvYw27",
        "outputId": "cd885fc5-ed49-4769-cb0c-54558f806b59"
      },
      "source": [
        "import matplotlib.pyplot as plt\n",
        "\n",
        "# summarize history for accuracy\n",
        "plt.plot(history.history['accuracy'])\n",
        "plt.plot(history.history['val_accuracy'])\n",
        "plt.title('model accuracy')\n",
        "plt.ylabel('accuracy')\n",
        "plt.xlabel('epoch')\n",
        "plt.legend(['train', 'test'], loc='upper left')\n",
        "plt.show()"
      ],
      "execution_count": 25,
      "outputs": [
        {
          "output_type": "display_data",
          "data": {
            "image/png": "[encoded data removed]",
            "text/plain": [
              "<Figure size 432x288 with 1 Axes>"
            ]
          },
          "metadata": {
            "tags": [],
            "needs_background": "light"
          }
        }
      ]
    },
    {
      "cell_type": "code",
      "metadata": {
        "id": "Zpb-PjValGME"
      },
      "source": [
        "#Saved The Model\n",
        "model.save_pretrained(\"/tmp/sentiment_custom_model\")"
      ],
      "execution_count": 26,
      "outputs": []
    },
    {
      "cell_type": "markdown",
      "metadata": {
        "id": "ZCNY8aAvceyA"
      },
      "source": [
        "# **5. Load saved Model and do the prediction**"
      ]
    },
    {
      "cell_type": "code",
      "metadata": {
        "colab": {
          "base_uri": "https://localhost:8080/"
        },
        "id": "mgCDYOA_cbMW",
        "outputId": "e089a4c5-b3f7-4f8b-e465-eda72365e3a1"
      },
      "source": [
        "loaded_model = TFDistilBertForSequenceClassification.from_pretrained(\"/tmp/sentiment_custom_model\")"
      ],
      "execution_count": 27,
      "outputs": [
        {
          "output_type": "stream",
          "text": [
            "Some weights of the model checkpoint at /tmp/sentiment_custom_model were not used when initializing TFDistilBertForSequenceClassification: ['dropout_19']\n",
            "- This IS expected if you are initializing TFDistilBertForSequenceClassification from the checkpoint of a model trained on another task or with another architecture (e.g. initializing a BertForSequenceClassification model from a BertForPretraining model).\n",
            "- This IS NOT expected if you are initializing TFDistilBertForSequenceClassification from the checkpoint of a model that you expect to be exactly identical (initializing a BertForSequenceClassification model from a BertForSequenceClassification model).\n",
            "Some weights of TFDistilBertForSequenceClassification were not initialized from the model checkpoint at /tmp/sentiment_custom_model and are newly initialized: ['dropout_39']\n",
            "You should probably TRAIN this model on a down-stream task to be able to use it for predictions and inference.\n"
          ],
          "name": "stderr"
        }
      ]
    },
    {
      "cell_type": "code",
      "metadata": {
        "colab": {
          "base_uri": "https://localhost:8080/"
        },
        "id": "IbNCtEVscqUX",
        "outputId": "b50db927-c1a5-4eab-fb29-7226d3a39b58"
      },
      "source": [
        "test_sentence = \"Anjing kau bangsat. idiot kaya gapernah disekolahin lu njing\" #ini gw dapat dari twitter ya ges ehehehe\n",
        "# replace to test_sentence variable, if you want to test the model\n",
        "predict_input = tokenizer.encode(test_sentence,\n",
        "                                 truncation=True,\n",
        "                                 padding=True,\n",
        "                                 return_tensors=\"tf\")\n",
        "\n",
        "tf_output = loaded_model.predict(predict_input)[0]\n",
        "print(tf_output)"
      ],
      "execution_count": 38,
      "outputs": [
        {
          "output_type": "stream",
          "text": [
            "[[-4.473761  -6.9954104  5.6168866]]\n"
          ],
          "name": "stdout"
        }
      ]
    },
    {
      "cell_type": "code",
      "metadata": {
        "colab": {
          "base_uri": "https://localhost:8080/"
        },
        "id": "A0hEMD2Ec-0B",
        "outputId": "14f01b00-3520-4ae6-9556-68ab69b00119"
      },
      "source": [
        "tf_prediction = tf.nn.softmax(tf_output, axis=1).numpy()[0]\n",
        "print(tf_prediction)\n",
        "\n",
        "# 4.1463685e-05 = 0.00004146368\n",
        "# 2.1356659e-04 = 0.00000333065\n",
        "# 9.9995518e-01 = 0.99995518\n",
        "# => sentiment = 2 (negative)\n",
        "# nb : 0 = neutral , 1 = positive , 2 = negative"
      ],
      "execution_count": 39,
      "outputs": [
        {
          "output_type": "stream",
          "text": [
            "[4.1463685e-05 3.3306540e-06 9.9995518e-01]\n"
          ],
          "name": "stdout"
        }
      ]
    },
    {
      "cell_type": "code",
      "metadata": {
        "id": "mThPoCKSdDqN"
      },
      "source": [
        ""
      ],
      "execution_count": null,
      "outputs": []
    }
  ]
}